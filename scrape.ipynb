{
 "cells": [
  {
   "cell_type": "code",
   "execution_count": 17,
   "metadata": {},
   "outputs": [],
   "source": [
    "import requests \n",
    "import pandas as pd\n",
    "from bs4 import BeautifulSoup"
   ]
  },
  {
   "cell_type": "code",
   "execution_count": 93,
   "metadata": {},
   "outputs": [],
   "source": [
    "class Scraper():\n",
    "    def __init__(self, base_url):\n",
    "        self.base_url = base_url\n",
    "    \n",
    "    def scrape(self, url=None):\n",
    "        response = requests.get(url) if url else requests.get(self.base_url)\n",
    "        return response\n",
    "        \n",
    "    def parse(self, url=None):\n",
    "        soup = BeautifulSoup(self.scrape(url).content, 'html.parser')\n",
    "        return soup\n",
    "    \n",
    "class FoodWishesScraper(Scraper):\n",
    "    def __init__(self, url=None):\n",
    "        super().__init__(url) \n",
    "        self.older_posts = self.older_posts_link()\n",
    "        self.next_page = self.older_posts_link()\n",
    "        self.recipes = self.find_recipes()\n",
    "    \n",
    "    def older_posts_link(self):\n",
    "        for a in self.parse().find_all('a'):\n",
    "            for x in range(len(a)+1):\n",
    "                try: \n",
    "                    if a['class'][x] == 'blog-pager-older-link':\n",
    "                        return a['href']\n",
    "                except: pass\n",
    "        return None\n",
    "    \n",
    "    def find_recipes(self):\n",
    "        recipes = []\n",
    "        for h3 in self.parse().find_all('h3', {'class': 'post-title entry-title'}):\n",
    "            recipes.append([f\"{h3.find('a').text}\",f\"{h3.find('a')['href']}\"])\n",
    "        return recipes"
   ]
  },
  {
   "cell_type": "code",
   "execution_count": 94,
   "metadata": {},
   "outputs": [
    {
     "name": "stdout",
     "output_type": "stream",
     "text": [
      "https://foodwishes.blogspot.com/search?updated-max=2019-07-30T19:31:00-04:00&max-results=4\n",
      "[['Easy Chicken Enchiladas – Flatter Wasn’t Faster, But Still Fabulous ', 'https://foodwishes.blogspot.com/2019/08/easy-chicken-enchiladas-flatter-wasnt.html'], ['Confetti Rice Salad – Celebrating Your Improved Knife Skills', 'https://foodwishes.blogspot.com/2019/08/confetti-rice-salad-celebrating-your.html'], ['Penang Pork Satay – Maybe Just Like the One at the “Penang Pork Satay”', 'https://foodwishes.blogspot.com/2019/08/penang-pork-satay-maybe-just-like-one.html'], ['Baltimore Peach Cake – Infested with Beauty and Deliciousness', 'https://foodwishes.blogspot.com/2019/07/baltimore-peach-cake-infested-with.html']]\n"
     ]
    }
   ],
   "source": [
    "c = FoodWishesScraper(\"https://foodwishes.blogspot.com/\")\n",
    "print(c.next_page)\n",
    "print(c.recipes)"
   ]
  },
  {
   "cell_type": "code",
   "execution_count": null,
   "metadata": {},
   "outputs": [],
   "source": []
  },
  {
   "cell_type": "code",
   "execution_count": null,
   "metadata": {},
   "outputs": [],
   "source": []
  }
 ],
 "metadata": {
  "kernelspec": {
   "display_name": "Python 3",
   "language": "python",
   "name": "python3"
  },
  "language_info": {
   "codemirror_mode": {
    "name": "ipython",
    "version": 3
   },
   "file_extension": ".py",
   "mimetype": "text/x-python",
   "name": "python",
   "nbconvert_exporter": "python",
   "pygments_lexer": "ipython3",
   "version": "3.6.4"
  }
 },
 "nbformat": 4,
 "nbformat_minor": 2
}
